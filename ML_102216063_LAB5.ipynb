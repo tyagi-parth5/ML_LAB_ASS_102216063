{
  "nbformat": 4,
  "nbformat_minor": 0,
  "metadata": {
    "colab": {
      "provenance": []
    },
    "kernelspec": {
      "name": "python3",
      "display_name": "Python 3"
    },
    "language_info": {
      "name": "python"
    }
  },
  "cells": [
    {
      "cell_type": "code",
      "source": [
        "#Q1"
      ],
      "metadata": {
        "id": "QyHqEu6MQ2Ir"
      },
      "execution_count": null,
      "outputs": []
    },
    {
      "cell_type": "code",
      "source": [
        "import numpy as np\n",
        "import pandas as pd\n",
        "from sklearn.linear_model import LogisticRegression\n",
        "from sklearn.metrics import accuracy_score, classification_report, confusion_matrix\n",
        "from sklearn.model_selection import train_test_split, cross_val_score\n",
        "from sklearn.preprocessing import StandardScaler\n",
        "import seaborn as sns\n",
        "import matplotlib.pyplot as plt\n",
        "\n",
        "# Load the dataset\n",
        "data = pd.read_csv('iris.csv', header=None)\n",
        "data.columns = ['sepal_length', 'sepal_width', 'petal_length', 'petal_width', 'species']\n",
        "\n",
        "# Inspect the first few rows and data types\n",
        "print(\"First few rows of the dataset:\")\n",
        "print(data.head())\n",
        "print(\"\\nData types:\")\n",
        "print(data.dtypes)\n",
        "\n",
        "# Check for any non-numeric values in the feature columns\n",
        "print(\"\\nUnique values in feature columns:\")\n",
        "for column in data.columns[:-1]:  # Exclude the species column\n",
        "    print(f\"{column}: {data[column].unique()}\")\n",
        "\n",
        "# Check for null or NaN values in the dataset\n",
        "print(\"\\nChecking for null values:\")\n",
        "print(data.isnull().sum())\n",
        "\n",
        "# Convert all features to numeric, if not already\n",
        "data.iloc[:, :-1] = data.iloc[:, :-1].apply(pd.to_numeric, errors='coerce')\n",
        "\n",
        "# Check again for any NaN values after conversion\n",
        "print(\"\\nChecking for NaN values after conversion:\")\n",
        "print(data.isnull().sum())\n",
        "\n",
        "# Drop rows with NaN values (if any)\n",
        "data = data.dropna()\n",
        "\n",
        "# Prepare features and labels\n",
        "X = data.iloc[:, :-1].values  # All columns except the last one\n",
        "y = data.iloc[:, -1].factorize()[0]  # Convert species names to numeric values\n",
        "\n",
        "# Standardize the features\n",
        "scaler = StandardScaler()\n",
        "X = scaler.fit_transform(X)\n",
        "\n",
        "# Split the dataset into training and testing sets (stratified)\n",
        "X_train, X_test, y_train, y_test = train_test_split(X, y, test_size=0.2, random_state=42, stratify=y)\n",
        "\n",
        "# Initialize the logistic regression model with One-vs-Rest strategy\n",
        "model = LogisticRegression(multi_class='ovr', solver='liblinear')\n",
        "\n",
        "# Fit the model to the training data\n",
        "model.fit(X_train, y_train)\n",
        "\n",
        "# Make predictions on the test set\n",
        "y_pred = model.predict(X_test)\n",
        "\n",
        "# Evaluate the model's accuracy\n",
        "accuracy = accuracy_score(y_test, y_pred)\n",
        "print(\"\\nAccuracy:\", accuracy)\n",
        "\n",
        "# Print the classification report\n",
        "print(\"\\nClassification Report:\")\n",
        "print(classification_report(y_test, y_pred))\n",
        "\n",
        "# Cross-validation\n",
        "scores = cross_val_score(model, X, y, cv=5)  # 5-fold cross-validation\n",
        "print(\"\\nCross-validated scores:\", scores)\n",
        "\n",
        "# Confusion matrix visualization\n",
        "cm = confusion_matrix(y_test, y_pred)\n",
        "plt.figure(figsize=(8, 6))\n",
        "sns.heatmap(cm, annot=True, fmt='d', cmap='Blues', xticklabels=data['species'].unique(), yticklabels=data['species'].unique())\n",
        "plt.xlabel('Predicted')\n",
        "plt.ylabel('True')\n",
        "plt.title('Confusion Matrix')\n",
        "plt.show()\n"
      ],
      "metadata": {
        "colab": {
          "base_uri": "https://localhost:8080/",
          "height": 1000
        },
        "id": "Gqrhu8zERC2a",
        "outputId": "2bf25747-d1e6-4077-ec60-2b9b5686db6a"
      },
      "execution_count": null,
      "outputs": [
        {
          "output_type": "stream",
          "name": "stdout",
          "text": [
            "First few rows of the dataset:\n",
            "   sepal_length  sepal_width  petal_length  petal_width  species\n",
            "0  sepal_length  sepal_width  petal_length  petal_width  species\n",
            "1           5.1          3.5           1.4          0.2   Setosa\n",
            "2           4.9            3           1.4          0.2   Setosa\n",
            "3           4.7          3.2           1.3          0.2   Setosa\n",
            "4           4.6          3.1           1.5          0.2   Setosa\n",
            "\n",
            "Data types:\n",
            "sepal_length    object\n",
            "sepal_width     object\n",
            "petal_length    object\n",
            "petal_width     object\n",
            "species         object\n",
            "dtype: object\n",
            "\n",
            "Unique values in feature columns:\n",
            "sepal_length: ['sepal_length' '5.1' '4.9' '4.7' '4.6' '5' '5.4' '4.4' '4.8' '4.3' '5.8'\n",
            " '5.7' '5.2' '5.5' '4.5' '5.3' '7' '6.4' '6.9' '6.5' '6.3' '6.6' '5.9' '6'\n",
            " '6.1' '5.6' '6.7' '6.2' '6.8' '7.1' '7.6' '7.3' '7.2' '7.7' '7.4' '7.9']\n",
            "sepal_width: ['sepal_width' '3.5' '3' '3.2' '3.1' '3.6' '3.9' '3.4' '2.9' '3.7' '4'\n",
            " '4.4' '3.8' '3.3' '4.1' '4.2' '2.3' '2.8' '2.4' '2.7' '2' '2.2' '2.5'\n",
            " '2.6']\n",
            "petal_length: ['petal_length' '1.4' '1.3' '1.5' '1.7' '1.6' '1.1' '1.2' '1' '1.9' '4.7'\n",
            " '4.5' '4.9' '4' '4.6' '3.3' '3.9' '3.5' '4.2' '3.6' '4.4' '4.1' '4.8'\n",
            " '4.3' '5' '3.8' '3.7' '5.1' '3' '6' '5.9' '5.6' '5.8' '6.6' '6.3' '6.1'\n",
            " '5.3' '5.5' '6.7' '6.9' '5.7' '6.4' '5.4' '5.2']\n",
            "petal_width: ['petal_width' '0.2' '0.4' '0.3' '0.1' '0.5' '0.6' '1.4' '1.5' '1.3' '1.6'\n",
            " '1' '1.1' '1.8' '1.2' '1.7' '2.5' '1.9' '2.1' '2.2' '2' '2.4' '2.3']\n",
            "\n",
            "Checking for null values:\n",
            "sepal_length    0\n",
            "sepal_width     0\n",
            "petal_length    0\n",
            "petal_width     0\n",
            "species         0\n",
            "dtype: int64\n",
            "\n",
            "Checking for NaN values after conversion:\n",
            "sepal_length    1\n",
            "sepal_width     1\n",
            "petal_length    1\n",
            "petal_width     1\n",
            "species         0\n",
            "dtype: int64\n",
            "\n",
            "Accuracy: 0.8333333333333334\n",
            "\n",
            "Classification Report:\n",
            "              precision    recall  f1-score   support\n",
            "\n",
            "           0       1.00      1.00      1.00        10\n",
            "           1       0.86      0.60      0.71        10\n",
            "           2       0.69      0.90      0.78        10\n",
            "\n",
            "    accuracy                           0.83        30\n",
            "   macro avg       0.85      0.83      0.83        30\n",
            "weighted avg       0.85      0.83      0.83        30\n",
            "\n",
            "\n",
            "Cross-validated scores: [0.83333333 0.93333333 0.93333333 0.83333333 1.        ]\n"
          ]
        },
        {
          "output_type": "stream",
          "name": "stderr",
          "text": [
            "/usr/local/lib/python3.10/dist-packages/sklearn/linear_model/_logistic.py:1256: FutureWarning: 'multi_class' was deprecated in version 1.5 and will be removed in 1.7. Use OneVsRestClassifier(LogisticRegression(..)) instead. Leave it to its default value to avoid this warning.\n",
            "  warnings.warn(\n",
            "/usr/local/lib/python3.10/dist-packages/sklearn/linear_model/_logistic.py:1256: FutureWarning: 'multi_class' was deprecated in version 1.5 and will be removed in 1.7. Use OneVsRestClassifier(LogisticRegression(..)) instead. Leave it to its default value to avoid this warning.\n",
            "  warnings.warn(\n",
            "/usr/local/lib/python3.10/dist-packages/sklearn/linear_model/_logistic.py:1256: FutureWarning: 'multi_class' was deprecated in version 1.5 and will be removed in 1.7. Use OneVsRestClassifier(LogisticRegression(..)) instead. Leave it to its default value to avoid this warning.\n",
            "  warnings.warn(\n",
            "/usr/local/lib/python3.10/dist-packages/sklearn/linear_model/_logistic.py:1256: FutureWarning: 'multi_class' was deprecated in version 1.5 and will be removed in 1.7. Use OneVsRestClassifier(LogisticRegression(..)) instead. Leave it to its default value to avoid this warning.\n",
            "  warnings.warn(\n",
            "/usr/local/lib/python3.10/dist-packages/sklearn/linear_model/_logistic.py:1256: FutureWarning: 'multi_class' was deprecated in version 1.5 and will be removed in 1.7. Use OneVsRestClassifier(LogisticRegression(..)) instead. Leave it to its default value to avoid this warning.\n",
            "  warnings.warn(\n",
            "/usr/local/lib/python3.10/dist-packages/sklearn/linear_model/_logistic.py:1256: FutureWarning: 'multi_class' was deprecated in version 1.5 and will be removed in 1.7. Use OneVsRestClassifier(LogisticRegression(..)) instead. Leave it to its default value to avoid this warning.\n",
            "  warnings.warn(\n"
          ]
        },
        {
          "output_type": "display_data",
          "data": {
            "text/plain": [
              "<Figure size 800x600 with 2 Axes>"
            ],
            "image/png": "[encoded data removed]"
          },
          "metadata": {}
        }
      ]
    },
    {
      "cell_type": "code",
      "source": [
        "#Q2 -- Not done yet in Class"
      ],
      "metadata": {
        "id": "LKGnUT1sQQhG"
      },
      "execution_count": null,
      "outputs": []
    },
    {
      "cell_type": "code",
      "source": [
        "#LAB 6"
      ],
      "metadata": {
        "id": "hd9AYGNRUE2K"
      },
      "execution_count": null,
      "outputs": []
    },
    {
      "cell_type": "code",
      "source": [
        "#1\n",
        "# (Gaussian Naïve Bayes Classifier) Implement Gaussian Naïve Bayes Classifier on the Iris dataset from sklearn.datasets using\n",
        "#         (i) Step-by-step implementation\n",
        "#         (ii) In-built function\n",
        "\n",
        "import numpy as np\n",
        "import pandas as pd\n",
        "from sklearn.datasets import load_iris\n",
        "from sklearn.model_selection import train_test_split\n",
        "from sklearn.metrics import accuracy_score, confusion_matrix, classification_report\n",
        "\n",
        "# Step 1: Load the Iris dataset\n",
        "iris = load_iris()\n",
        "X = iris.data  # Features\n",
        "y = iris.target  # Target classes\n",
        "\n",
        "# Step 2: Split the data into training and testing sets\n",
        "X_train, X_test, y_train, y_test = train_test_split(X, y, test_size=0.7, random_state=42)\n",
        "\n",
        "# Step 3: Gaussian Naïve Bayes Classifier Implementation\n",
        "class GaussianNaiveBayes:\n",
        "    def fit(self, X, y):\n",
        "        self.classes = np.unique(y)\n",
        "        self.mean = {}\n",
        "        self.variance = {}\n",
        "        self.prior = {}\n",
        "\n",
        "        # Calculate mean, variance, and prior probabilities\n",
        "        for c in self.classes:\n",
        "            X_c = X[y == c]\n",
        "            self.mean[c] = X_c.mean(axis=0)\n",
        "            self.variance[c] = X_c.var(axis=0)\n",
        "            self.prior[c] = X_c.shape[0] / X.shape[0]\n",
        "\n",
        "    def predict(self, X):\n",
        "        predictions = []\n",
        "        for x in X:\n",
        "            posteriors = []\n",
        "            for c in self.classes:\n",
        "                prior = np.log(self.prior[c])\n",
        "                likelihood = -0.5 * np.sum(np.log(2 * np.pi * self.variance[c])) - 0.5 * np.sum(((x - self.mean[c]) ** 2) / self.variance[c])\n",
        "                posterior = prior + likelihood\n",
        "                posteriors.append(posterior)\n",
        "            predictions.append(self.classes[np.argmax(posteriors)])\n",
        "        return np.array(predictions)\n",
        "\n",
        "# Step 4: Train the model\n",
        "gnb = GaussianNaiveBayes()\n",
        "gnb.fit(X_train, y_train)\n",
        "\n",
        "# Step 5: Make predictions on the test set\n",
        "y_pred = gnb.predict(X_test)\n",
        "\n",
        "# Step 6: Evaluate the model\n",
        "accuracy = accuracy_score(y_test, y_pred)\n",
        "conf_matrix = confusion_matrix(y_test, y_pred)\n",
        "class_report = classification_report(y_test, y_pred)\n",
        "\n",
        "print(\"Accuracy:\", accuracy)\n",
        "print(\"Confusion Matrix:\\n\", conf_matrix)\n",
        "print(\"Classification Report:\\n\", class_report)"
      ],
      "metadata": {
        "colab": {
          "base_uri": "https://localhost:8080/"
        },
        "id": "GET0nzUsWOlL",
        "outputId": "40e79803-70f7-42d4-e92c-4e3c570a58fc"
      },
      "execution_count": 31,
      "outputs": [
        {
          "output_type": "stream",
          "name": "stdout",
          "text": [
            "Accuracy: 0.9428571428571428\n",
            "Confusion Matrix:\n",
            " [[40  0  0]\n",
            " [ 0 29  4]\n",
            " [ 0  2 30]]\n",
            "Classification Report:\n",
            "               precision    recall  f1-score   support\n",
            "\n",
            "           0       1.00      1.00      1.00        40\n",
            "           1       0.94      0.88      0.91        33\n",
            "           2       0.88      0.94      0.91        32\n",
            "\n",
            "    accuracy                           0.94       105\n",
            "   macro avg       0.94      0.94      0.94       105\n",
            "weighted avg       0.94      0.94      0.94       105\n",
            "\n"
          ]
        }
      ]
    },
    {
      "cell_type": "code",
      "source": [
        "#2\n",
        "from sklearn.naive_bayes import GaussianNB\n",
        "\n",
        "# Step 1: Load the Iris dataset\n",
        "iris = load_iris()\n",
        "X = iris.data  # Features\n",
        "y = iris.target  # Target classes\n",
        "\n",
        "# Step 2: Split the data into training and testing sets\n",
        "X_train, X_test, y_train, y_test = train_test_split(X, y, test_size=0.3, random_state=42)\n",
        "\n",
        "# Step 3: Create and train the Gaussian Naïve Bayes model\n",
        "gnb = GaussianNB()\n",
        "gnb.fit(X_train, y_train)\n",
        "\n",
        "# Step 4: Make predictions on the test set\n",
        "y_pred = gnb.predict(X_test)\n",
        "\n",
        "# Step 5: Evaluate the model\n",
        "accuracy = accuracy_score(y_test, y_pred)\n",
        "conf_matrix = confusion_matrix(y_test, y_pred)\n",
        "class_report = classification_report(y_test, y_pred)\n",
        "\n",
        "print(\"Accuracy:\", accuracy)\n",
        "print(\"Confusion Matrix:\\n\", conf_matrix)\n",
        "print(\"Classification Report:\\n\", class_report)"
      ],
      "metadata": {
        "colab": {
          "base_uri": "https://localhost:8080/"
        },
        "id": "ZutRLTRJWoj1",
        "outputId": "87213146-0bbe-43aa-9511-f8f0149ee232"
      },
      "execution_count": 30,
      "outputs": [
        {
          "output_type": "stream",
          "name": "stdout",
          "text": [
            "Accuracy: 0.9777777777777777\n",
            "Confusion Matrix:\n",
            " [[19  0  0]\n",
            " [ 0 12  1]\n",
            " [ 0  0 13]]\n",
            "Classification Report:\n",
            "               precision    recall  f1-score   support\n",
            "\n",
            "           0       1.00      1.00      1.00        19\n",
            "           1       1.00      0.92      0.96        13\n",
            "           2       0.93      1.00      0.96        13\n",
            "\n",
            "    accuracy                           0.98        45\n",
            "   macro avg       0.98      0.97      0.97        45\n",
            "weighted avg       0.98      0.98      0.98        45\n",
            "\n"
          ]
        }
      ]
    },
    {
      "cell_type": "code",
      "source": [
        "#q2 ass6"
      ],
      "metadata": {
        "id": "CyB24L9HXBIA"
      },
      "execution_count": null,
      "outputs": []
    },
    {
      "cell_type": "code",
      "source": [
        "import numpy as np\n",
        "from sklearn.datasets import load_iris\n",
        "from sklearn.model_selection import train_test_split, GridSearchCV\n",
        "from sklearn.neighbors import KNeighborsClassifier\n",
        "from sklearn.metrics import accuracy_score\n",
        "\n",
        "# Load the Iris dataset\n",
        "iris = load_iris()\n",
        "X = iris.data\n",
        "y = iris.target\n",
        "\n",
        "# Split the dataset into training and test sets\n",
        "X_train, X_test, y_train, y_test = train_test_split(X, y, test_size=0.2, random_state=42)\n",
        "\n",
        "# Set up the parameter grid for K-NN\n",
        "param_grid = {'n_neighbors': np.arange(1, 31)}  # Testing K from 1 to 30\n",
        "\n",
        "# Initialize K-NN Classifier\n",
        "knn = KNeighborsClassifier()\n",
        "\n",
        "# Initialize GridSearchCV\n",
        "grid_search = GridSearchCV(estimator=knn, param_grid=param_grid, cv=5, scoring='accuracy')\n",
        "\n",
        "# Fit the GridSearchCV model\n",
        "grid_search.fit(X_train, y_train)\n",
        "\n",
        "# Get the best K value\n",
        "best_k = grid_search.best_params_['n_neighbors']\n",
        "best_score = grid_search.best_score_\n",
        "\n",
        "print(f\"Best K: {best_k}\")\n",
        "print(f\"Best Cross-Validation Accuracy: {best_score:.2f}\")\n",
        "\n",
        "# Use the best estimator to predict on the test set\n",
        "best_knn = grid_search.best_estimator_\n",
        "y_pred = best_knn.predict(X_test)\n",
        "\n",
        "# Evaluate the model\n",
        "test_accuracy = accuracy_score(y_test, y_pred)\n",
        "print(f\"Test Accuracy: {test_accuracy:.2f}\")\n"
      ],
      "metadata": {
        "colab": {
          "base_uri": "https://localhost:8080/"
        },
        "id": "xSq_VVeRXQFU",
        "outputId": "624eb229-6f2a-48ec-f217-a76b278a6860"
      },
      "execution_count": 32,
      "outputs": [
        {
          "output_type": "stream",
          "name": "stdout",
          "text": [
            "Best K: 3\n",
            "Best Cross-Validation Accuracy: 0.96\n",
            "Test Accuracy: 1.00\n"
          ]
        }
      ]
    }
  ]
}