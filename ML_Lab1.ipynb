{
 "cells": [
  {
   "cell_type": "code",
   "execution_count": 31,
   "id": "37f0c3f4-e310-447f-9cf9-9e06a000d194",
   "metadata": {
    "scrolled": true
   },
   "outputs": [],
   "source": [
    "#q1 A)"
   ]
  },
  {
   "cell_type": "code",
   "execution_count": 24,
   "id": "a1c6a6a1-ebb4-4722-baa2-b8e8dec3c660",
   "metadata": {},
   "outputs": [
    {
     "name": "stdout",
     "output_type": "stream",
     "text": [
      "Reverse Matrix\n",
      "[5 4 3 2 1]\n"
     ]
    }
   ],
   "source": [
    "import numpy as np\n",
    "a=np.array([1,2,3,4,5])\n",
    "n=len(a)\n",
    "rev=a[-1:-n-1:-1]\n",
    "print(\"Reverse Matrix\")\n",
    "print(rev)"
   ]
  },
  {
   "cell_type": "code",
   "execution_count": 43,
   "id": "282951a5-a6ca-4e01-bb68-6b1bd3b294db",
   "metadata": {},
   "outputs": [],
   "source": [
    "#q1 2 a)"
   ]
  },
  {
   "cell_type": "code",
   "execution_count": 26,
   "id": "3dc634df-5649-4dbe-95c2-4692fc4ba250",
   "metadata": {},
   "outputs": [
    {
     "name": "stdout",
     "output_type": "stream",
     "text": [
      "[1 2 3 2 4 5 1 2 3]\n"
     ]
    }
   ],
   "source": [
    "import numpy as np\n",
    "a=np.array([[1, 2, 3], [2, 4, 5], [1, 2, 3]])\n",
    "b=a.flatten()\n",
    "print(b)"
   ]
  },
  {
   "cell_type": "code",
   "execution_count": null,
   "id": "5e7b7303-357b-41db-844d-e0aba2068027",
   "metadata": {},
   "outputs": [],
   "source": [
    "#q1 2 b)"
   ]
  },
  {
   "cell_type": "code",
   "execution_count": 4,
   "id": "52a429ea-0f33-4753-8dc1-51bbcf007018",
   "metadata": {},
   "outputs": [
    {
     "name": "stdout",
     "output_type": "stream",
     "text": [
      "[1 2 3 2 4 5 1 2 3]\n"
     ]
    }
   ],
   "source": [
    "import numpy as np\n",
    "a=np.array([[1, 2, 3], [2, 4, 5], [1, 2, 3]])\n",
    "b=a.ravel()\n",
    "print(b)"
   ]
  },
  {
   "cell_type": "code",
   "execution_count": null,
   "id": "055cb1a0-b0b4-40bf-8be4-6bd50d4bd0da",
   "metadata": {},
   "outputs": [],
   "source": [
    "#q1 3"
   ]
  },
  {
   "cell_type": "code",
   "execution_count": 6,
   "id": "ca1ceffe-42fa-49ee-9657-f50ed87c8f68",
   "metadata": {},
   "outputs": [
    {
     "name": "stdout",
     "output_type": "stream",
     "text": [
      "[[ True  True]\n",
      " [ True  True]]\n"
     ]
    }
   ],
   "source": [
    "arr1 = np.array([[1, 2], [3, 4]])\n",
    "arr2 = np.array([[1, 2], [3, 4]])\n",
    "\n",
    "import numpy as np\n",
    "arr1 = np.array([[1, 2], [3, 4]])\n",
    "arr2 = np.array([[1, 2], [3, 4]])\n",
    "print(arr1==arr2)\n"
   ]
  },
  {
   "cell_type": "code",
   "execution_count": null,
   "id": "fb51a030-0ec7-429b-a4bb-9055f79d1c42",
   "metadata": {},
   "outputs": [],
   "source": [
    "#q1 4 a)"
   ]
  },
  {
   "cell_type": "code",
   "execution_count": 7,
   "id": "d790b30f-75bc-4d77-b6e8-2a0fefa977f5",
   "metadata": {},
   "outputs": [
    {
     "name": "stdout",
     "output_type": "stream",
     "text": [
      "Most frequent value: 1\n",
      "Indices of the most frequent value: [0 5 7 8 9]\n"
     ]
    }
   ],
   "source": [
    "import numpy as np\n",
    "x = np.array([1, 2, 3, 4, 5, 1, 2, 1, 1, 1])\n",
    "unique, counts = np.unique(x, return_counts=True)\n",
    "most_frequent_value = unique[np.argmax(counts)]\n",
    "indices = np.where(x == most_frequent_value)[0]\n",
    "print(\"Most frequent value:\", most_frequent_value)\n",
    "print(\"Indices of the most frequent value:\", indices)"
   ]
  },
  {
   "cell_type": "code",
   "execution_count": null,
   "id": "e2a17201-03c5-4103-b326-00e2e815d64e",
   "metadata": {},
   "outputs": [],
   "source": [
    "#q1 4 b)"
   ]
  },
  {
   "cell_type": "code",
   "execution_count": 8,
   "id": "195848fd-5250-4177-b060-4a285c6a0837",
   "metadata": {},
   "outputs": [
    {
     "name": "stdout",
     "output_type": "stream",
     "text": [
      "Most frequent value: 1\n",
      "Indices of the most frequent value: [0 1 2]\n"
     ]
    }
   ],
   "source": [
    "import numpy as np\n",
    "y = np.array([1, 1, 1, 2, 3, 4, 2, 4, 3, 3, ]) \n",
    "unique, counts = np.unique(y, return_counts=True)\n",
    "most_frequent_value = unique[np.argmax(counts)]\n",
    "indices = np.where(y == most_frequent_value)[0]\n",
    "print(\"Most frequent value:\", most_frequent_value)\n",
    "print(\"Indices of the most frequent value:\", indices)"
   ]
  },
  {
   "cell_type": "code",
   "execution_count": null,
   "id": "ba27201a-6c6c-4cf3-a11d-cb5a17feb341",
   "metadata": {},
   "outputs": [],
   "source": [
    "# q1 5 a)"
   ]
  },
  {
   "cell_type": "code",
   "execution_count": 9,
   "id": "375ff33d-b7b4-4594-ac03-8715a913fc33",
   "metadata": {},
   "outputs": [
    {
     "name": "stdout",
     "output_type": "stream",
     "text": [
      "45\n"
     ]
    }
   ],
   "source": [
    "import numpy as np\n",
    "gfg = np.matrix('[4, 1, 9; 12, 3, 1; 4, 5, 6]')\n",
    "print(gfg.sum())"
   ]
  },
  {
   "cell_type": "code",
   "execution_count": null,
   "id": "246d2a44-061a-40e9-b461-594d7ffaa20d",
   "metadata": {},
   "outputs": [],
   "source": [
    "# q1 5 b)"
   ]
  },
  {
   "cell_type": "code",
   "execution_count": 10,
   "id": "75941c84-264b-4fb0-b9ae-c0cebe4f6263",
   "metadata": {},
   "outputs": [
    {
     "name": "stdout",
     "output_type": "stream",
     "text": [
      "[[20  9 16]]\n"
     ]
    }
   ],
   "source": [
    "import numpy as np\n",
    "gfg = np.matrix('[4, 1, 9; 12, 3, 1; 4, 5, 6]')\n",
    "print(np.sum(gfg,axis=0))"
   ]
  },
  {
   "cell_type": "code",
   "execution_count": null,
   "id": "7e85668d-b703-4c4a-a705-496e9f7e962f",
   "metadata": {},
   "outputs": [],
   "source": [
    "# q1 5 c)"
   ]
  },
  {
   "cell_type": "code",
   "execution_count": 11,
   "id": "0b6b3332-132e-4f58-ba01-86c2d211b57d",
   "metadata": {},
   "outputs": [
    {
     "name": "stdout",
     "output_type": "stream",
     "text": [
      "[[14]\n",
      " [16]\n",
      " [15]]\n"
     ]
    }
   ],
   "source": [
    "import numpy as np\n",
    "gfg = np.matrix('[4, 1, 9; 12, 3, 1; 4, 5, 6]')\n",
    "print(np.sum(gfg,axis=1))"
   ]
  },
  {
   "cell_type": "code",
   "execution_count": null,
   "id": "44cd1eb5-a45b-4f83-9e36-f13fc7129acb",
   "metadata": {},
   "outputs": [],
   "source": [
    "#q1 6 a)"
   ]
  },
  {
   "cell_type": "code",
   "execution_count": 25,
   "id": "8cc47915-4b1e-4fbd-baeb-57c25c406e61",
   "metadata": {},
   "outputs": [
    {
     "name": "stdout",
     "output_type": "stream",
     "text": [
      "176\n"
     ]
    }
   ],
   "source": [
    "import numpy as np\n",
    "n_array = np.array([[55, 25, 15],[30, 44, 2],[11, 45, 77]])\n",
    "print(n_array.trace())"
   ]
  },
  {
   "cell_type": "code",
   "execution_count": null,
   "id": "89ec17d5-c737-42a1-8333-3d6bb90435ee",
   "metadata": {},
   "outputs": [],
   "source": [
    "#q1 6 b) & c)"
   ]
  },
  {
   "cell_type": "code",
   "execution_count": 12,
   "id": "ee8fac24-ff87-4a58-bfd1-488da0dd4143",
   "metadata": {},
   "outputs": [
    {
     "name": "stdout",
     "output_type": "stream",
     "text": [
      "Eigenvalues of n_array:\n",
      "[98.16835147 28.097044   49.73460452]\n",
      "Eigenvectors of n_array:\n",
      "[[ 0.4574917   0.34637121 -0.15017693]\n",
      " [ 0.28447814 -0.72784061 -0.4852124 ]\n",
      " [ 0.84248058  0.59184038  0.8614034 ]]\n"
     ]
    }
   ],
   "source": [
    "import numpy as np\n",
    "n_array = np.array([[55, 25, 15], [30, 44, 2], [11, 45, 77]])\n",
    "eigenvalues, eigenvectors = np.linalg.eig(n_array)\n",
    "print(\"Eigenvalues of n_array:\")\n",
    "print(eigenvalues)\n",
    "print(\"Eigenvectors of n_array:\")\n",
    "print(eigenvectors)\n"
   ]
  },
  {
   "cell_type": "code",
   "execution_count": null,
   "id": "bd5fcace-eea9-4809-8b0b-95d67ed37b70",
   "metadata": {},
   "outputs": [],
   "source": [
    "#q1 6 d)"
   ]
  },
  {
   "cell_type": "code",
   "execution_count": 13,
   "id": "72fb5d27-5d39-4fc7-8745-dd94a862ecc2",
   "metadata": {},
   "outputs": [
    {
     "name": "stdout",
     "output_type": "stream",
     "text": [
      "[[ 0.02404141 -0.00911212 -0.00444671]\n",
      " [-0.01667882  0.02966905  0.0024785 ]\n",
      " [ 0.00631287 -0.01603732  0.01217379]]\n"
     ]
    }
   ],
   "source": [
    "import numpy as np\n",
    "n = np.array([[55, 25, 15], [30, 44, 2], [11, 45, 77]])\n",
    "print(np.linalg.inv(n))"
   ]
  },
  {
   "cell_type": "code",
   "execution_count": null,
   "id": "f0cc7af1-001d-4b91-a3d0-bef582939bd1",
   "metadata": {},
   "outputs": [],
   "source": [
    "#q1 6 e)"
   ]
  },
  {
   "cell_type": "code",
   "execution_count": 14,
   "id": "b4336785-e273-46e6-8cf6-5c5458b99278",
   "metadata": {},
   "outputs": [
    {
     "name": "stdout",
     "output_type": "stream",
     "text": [
      "137180.0000000001\n"
     ]
    }
   ],
   "source": [
    "import numpy as np\n",
    "n = np.array([[55, 25, 15], [30, 44, 2], [11, 45, 77]])\n",
    "print(np.linalg.det(n))"
   ]
  },
  {
   "cell_type": "code",
   "execution_count": null,
   "id": "e32d1599-a8f9-4af2-b8b1-077db4477e70",
   "metadata": {},
   "outputs": [],
   "source": [
    "#q1 7 a)"
   ]
  },
  {
   "cell_type": "code",
   "execution_count": 29,
   "id": "a28bb6f5-cd18-402e-8dba-b80a49499515",
   "metadata": {},
   "outputs": [
    {
     "name": "stdout",
     "output_type": "stream",
     "text": [
      "[[16 19]\n",
      " [26 31]]\n",
      "Covariance = 0.75\n"
     ]
    }
   ],
   "source": [
    "import numpy as np\n",
    "p = np.array([[1, 2], [2, 3]])\n",
    "q = np.array([[4, 5], [6, 7]])\n",
    "product = p @ q\n",
    "print(product)\n",
    "import numpy as np\n",
    "p = np.array([[1, 2], [2, 3]])\n",
    "q = np.array([[4, 5], [6, 7]])\n",
    "p_flattened = p.flatten()\n",
    "q_flattened = q.flatten()\n",
    "mean_p = np.mean(p_flattened)\n",
    "mean_q = np.mean(q_flattened)\n",
    "covariance = np.mean((p_flattened - mean_p) * (q_flattened - mean_q))\n",
    "print('Covariance =',covariance)"
   ]
  },
  {
   "cell_type": "code",
   "execution_count": null,
   "id": "72e1dea5-394b-4f6e-b100-21979ca4713c",
   "metadata": {},
   "outputs": [],
   "source": [
    "#q1 7 b)"
   ]
  },
  {
   "cell_type": "code",
   "execution_count": 30,
   "id": "194582c5-cee6-435a-a831-a1d959061aac",
   "metadata": {},
   "outputs": [
    {
     "name": "stdout",
     "output_type": "stream",
     "text": [
      "Matrix multiplication result:\n",
      "[[16 19  5]\n",
      " [26 31  8]\n",
      " [46 55 14]]\n",
      "Covariance = 0.19444444444444464\n"
     ]
    }
   ],
   "source": [
    "p = np.array([[1, 2], [2, 3], [4, 5]])\n",
    "q = np.array([[4, 5, 1], [6, 7, 2]])\n",
    "product = p @ q\n",
    "print(\"Matrix multiplication result:\")\n",
    "print(product)\n",
    "p_flattened = p.flatten()\n",
    "q_flattened = q.flatten()\n",
    "mean_p = np.mean(p_flattened)\n",
    "mean_q = np.mean(q_flattened)\n",
    "covariance = np.mean((p_flattened - mean_p) * (q_flattened - mean_q))\n",
    "print('Covariance =',covariance)"
   ]
  },
  {
   "cell_type": "code",
   "execution_count": null,
   "id": "058542dc-3675-4df8-abb6-537f95453e11",
   "metadata": {},
   "outputs": [],
   "source": [
    "#q1 8"
   ]
  },
  {
   "cell_type": "code",
   "execution_count": 34,
   "id": "af412c26-ddb5-41b5-9f53-254dbb9c4d34",
   "metadata": {},
   "outputs": [
    {
     "name": "stdout",
     "output_type": "stream",
     "text": [
      "******Inner_product*******\n",
      "[[17 52]\n",
      " [13 62]]\n",
      "******Outer_product*******\n",
      "[[ 2 10  0 10 20  6]\n",
      " [ 3 15  0 15 30  9]\n",
      " [ 4 20  0 20 40 12]\n",
      " [ 3 15  0 15 30  9]\n",
      " [ 2 10  0 10 20  6]\n",
      " [ 9 45  0 45 90 27]]\n",
      "******Cartesian_product*******\n",
      "[[ 2  1]\n",
      " [ 2  5]\n",
      " [ 2  0]\n",
      " [ 2  5]\n",
      " [ 2 10]\n",
      " [ 2  3]\n",
      " [ 3  1]\n",
      " [ 3  5]\n",
      " [ 3  0]\n",
      " [ 3  5]\n",
      " [ 3 10]\n",
      " [ 3  3]\n",
      " [ 4  1]\n",
      " [ 4  5]\n",
      " [ 4  0]\n",
      " [ 4  5]\n",
      " [ 4 10]\n",
      " [ 4  3]\n",
      " [ 3  1]\n",
      " [ 3  5]\n",
      " [ 3  0]\n",
      " [ 3  5]\n",
      " [ 3 10]\n",
      " [ 3  3]\n",
      " [ 2  1]\n",
      " [ 2  5]\n",
      " [ 2  0]\n",
      " [ 2  5]\n",
      " [ 2 10]\n",
      " [ 2  3]\n",
      " [ 9  1]\n",
      " [ 9  5]\n",
      " [ 9  0]\n",
      " [ 9  5]\n",
      " [ 9 10]\n",
      " [ 9  3]]\n"
     ]
    }
   ],
   "source": [
    "import numpy as np\n",
    "x = np.array([[2, 3, 4], [3, 2, 9]])\n",
    "y = np.array([[1, 5, 0], [5, 10, 3]])\n",
    "inner_product = np.dot(x,y.T) \n",
    "print('******Inner_product*******')\n",
    "print(inner_product)\n",
    "x_flattened = x.flatten()\n",
    "y_flattened = y.flatten()\n",
    "outer_product = np.outer(x_flattened, y_flattened)\n",
    "print('******Outer_product*******')\n",
    "print(outer_product)\n",
    "xx, yy = np.meshgrid(x_flattened, y_flattened, indexing='ij')\n",
    "cartesian_product = np.vstack([xx.ravel(), yy.ravel()]).T\n",
    "print('******Cartesian_product*******')\n",
    "print(cartesian_product)"
   ]
  },
  {
   "cell_type": "code",
   "execution_count": null,
   "id": "3e8fe1fc-046e-44f6-bff5-78d5e45d9a1e",
   "metadata": {},
   "outputs": [],
   "source": [
    "#q2"
   ]
  },
  {
   "cell_type": "code",
   "execution_count": null,
   "id": "cdab880c-4c82-4e8e-8924-7874cd621f30",
   "metadata": {},
   "outputs": [],
   "source": [
    "# a 1"
   ]
  },
  {
   "cell_type": "code",
   "execution_count": 35,
   "id": "6a432e97-2050-4cf1-a7c9-3c94844046dc",
   "metadata": {},
   "outputs": [
    {
     "name": "stdout",
     "output_type": "stream",
     "text": [
      "Element-wise absolute value:\n",
      " [[1 2 3]\n",
      " [4 5 6]]\n"
     ]
    }
   ],
   "source": [
    "import numpy as np\n",
    "array = np.array([[1, -2, 3], [-4, 5, -6]])\n",
    "absolute_array = np.abs(array)\n",
    "print(\"Element-wise absolute value:\\n\", absolute_array)"
   ]
  },
  {
   "cell_type": "code",
   "execution_count": null,
   "id": "5988df3d-77b4-4f87-bbb6-d961ca65ed86",
   "metadata": {},
   "outputs": [],
   "source": [
    "# a 2"
   ]
  },
  {
   "cell_type": "code",
   "execution_count": 37,
   "id": "ded26d23-c05e-4ca8-a45d-d2b98c7dac72",
   "metadata": {},
   "outputs": [
    {
     "name": "stdout",
     "output_type": "stream",
     "text": [
      "25th, 50th, 75th percentiles of flattened array: [-3.5 -0.5  2.5]\n",
      "25th, 50th, 75th percentiles for each column:\n",
      " [[-2.75 -0.25 -3.75]\n",
      " [-1.5   1.5  -1.5 ]\n",
      " [-0.25  3.25  0.75]]\n",
      "25th, 50th, 75th percentiles for each row:\n",
      " [[-0.5 -5. ]\n",
      " [ 1.  -4. ]\n",
      " [ 2.   0.5]]\n"
     ]
    }
   ],
   "source": [
    "flattened_array = array.flatten()\n",
    "percentiles_flattened = np.percentile(flattened_array, [25, 50, 75])\n",
    "print(\"25th, 50th, 75th percentiles of flattened array:\", percentiles_flattened)\n",
    "percentiles_columns = np.percentile(array, [25, 50, 75], axis=0)\n",
    "print(\"25th, 50th, 75th percentiles for each column:\\n\", percentiles_columns)\n",
    "percentiles_rows = np.percentile(array, [25, 50, 75], axis=1)\n",
    "print(\"25th, 50th, 75th percentiles for each row:\\n\", percentiles_rows)"
   ]
  },
  {
   "cell_type": "code",
   "execution_count": null,
   "id": "5922e5e2-1967-43d6-9261-f439521d1237",
   "metadata": {},
   "outputs": [],
   "source": [
    "# a 3"
   ]
  },
  {
   "cell_type": "code",
   "execution_count": 38,
   "id": "9994b381-0a60-44e1-9b07-c32875a6904e",
   "metadata": {},
   "outputs": [
    {
     "name": "stdout",
     "output_type": "stream",
     "text": [
      "Mean of flattened array: -0.5\n",
      "Median of flattened array: -0.5\n",
      "Standard Deviation of flattened array: 3.8622100754188224\n",
      "Mean for each column: [-1.5  1.5 -1.5]\n",
      "Median for each column: [-1.5  1.5 -1.5]\n",
      "Standard Deviation for each column: [2.5 3.5 4.5]\n",
      "Mean for each row: [ 0.66666667 -1.66666667]\n",
      "Median for each row: [ 1. -4.]\n",
      "Standard Deviation for each row: [2.05480467 4.78423336]\n"
     ]
    }
   ],
   "source": [
    "mean_flattened = np.mean(flattened_array)\n",
    "median_flattened = np.median(flattened_array)\n",
    "std_flattened = np.std(flattened_array)\n",
    "\n",
    "print(\"Mean of flattened array:\", mean_flattened)\n",
    "print(\"Median of flattened array:\", median_flattened)\n",
    "print(\"Standard Deviation of flattened array:\", std_flattened)\n",
    "mean_columns = np.mean(array, axis=0)\n",
    "median_columns = np.median(array, axis=0)\n",
    "std_columns = np.std(array, axis=0)\n",
    "\n",
    "print(\"Mean for each column:\", mean_columns)\n",
    "print(\"Median for each column:\", median_columns)\n",
    "print(\"Standard Deviation for each column:\", std_columns)\n",
    "mean_rows = np.mean(array, axis=1)\n",
    "median_rows = np.median(array, axis=1)\n",
    "std_rows = np.std(array, axis=1)\n",
    "\n",
    "print(\"Mean for each row:\", mean_rows)\n",
    "print(\"Median for each row:\", median_rows)\n",
    "print(\"Standard Deviation for each row:\", std_rows)\n"
   ]
  },
  {
   "cell_type": "code",
   "execution_count": null,
   "id": "255a978d-8176-4055-80cf-cc670dcc7001",
   "metadata": {},
   "outputs": [],
   "source": [
    "# b"
   ]
  },
  {
   "cell_type": "code",
   "execution_count": 40,
   "id": "1ccdc77d-b9a1-4ace-bb72-24e1c5545e1a",
   "metadata": {},
   "outputs": [
    {
     "name": "stdout",
     "output_type": "stream",
     "text": [
      "Floor values: [-2. -2. -1.  0.  1.  1.  3.]\n",
      "Ceiling values: [-1. -1. -0.  1.  2.  2.  3.]\n",
      "Truncated values: [-1. -1. -0.  0.  1.  1.  3.]\n",
      "Rounded values: [-2. -2. -0.  0.  2.  2.  3.]\n"
     ]
    }
   ],
   "source": [
    "import numpy as np\n",
    "\n",
    "a = np.array([-1.8, -1.6, -0.5, 0.5, 1.6, 1.8, 3.0])\n",
    "\n",
    "floor_values = np.floor(a)\n",
    "ceiling_values = np.ceil(a)\n",
    "truncated_values = np.trunc(a)\n",
    "rounded_values = np.round(a)\n",
    "print(\"Floor values:\", floor_values)\n",
    "print(\"Ceiling values:\", ceiling_values)\n",
    "print(\"Truncated values:\", truncated_values)\n",
    "print(\"Rounded values:\", rounded_values)\n"
   ]
  },
  {
   "cell_type": "code",
   "execution_count": null,
   "id": "bde4c874-639b-4cfb-9314-2b702a103d59",
   "metadata": {},
   "outputs": [],
   "source": [
    "# 3 a 1"
   ]
  },
  {
   "cell_type": "code",
   "execution_count": 41,
   "id": "6dd670f3-e659-4fc7-96d7-63f2b9b5c42f",
   "metadata": {},
   "outputs": [
    {
     "name": "stdout",
     "output_type": "stream",
     "text": [
      "Original array: [ 10  52  62  16  16  54 453]\n",
      "Sorted array: [ 10  16  16  52  54  62 453]\n",
      "Indices of sorted array: [0 3 4 1 5 2 6]\n",
      "4 smallest elements: [10 16 16 52]\n",
      "5 largest elements: [ 16  52  54  62 453]\n"
     ]
    }
   ],
   "source": [
    "import numpy as np\n",
    "\n",
    "array = np.array([10, 52, 62, 16, 16, 54, 453])\n",
    "\n",
    "# i. Sorted array\n",
    "sorted_array = np.sort(array)\n",
    "\n",
    "# ii. Indices of the sorted array\n",
    "sorted_indices = np.argsort(array)\n",
    "\n",
    "# iii. 4 smallest elements\n",
    "smallest_elements = np.sort(array)[:4]\n",
    "\n",
    "# iv. 5 largest elements\n",
    "largest_elements = np.sort(array)[-5:]\n",
    "\n",
    "print(\"Original array:\", array)\n",
    "print(\"Sorted array:\", sorted_array)\n",
    "print(\"Indices of sorted array:\", sorted_indices)\n",
    "print(\"4 smallest elements:\", smallest_elements)\n",
    "print(\"5 largest elements:\", largest_elements)\n"
   ]
  },
  {
   "cell_type": "code",
   "execution_count": null,
   "id": "3b653c5b-9134-4a7f-ac3e-23642e36aa3d",
   "metadata": {},
   "outputs": [],
   "source": [
    "# 3 b "
   ]
  },
  {
   "cell_type": "code",
   "execution_count": 42,
   "id": "2ada7eb6-8d01-42e3-b6b4-fb682b7b4f97",
   "metadata": {},
   "outputs": [
    {
     "name": "stdout",
     "output_type": "stream",
     "text": [
      "Original array: [1.  1.2 2.2 2.  3.  2. ]\n",
      "Integer elements only: [1. 2. 3. 2.]\n",
      "Float elements only: [1.2 2.2]\n"
     ]
    }
   ],
   "source": [
    "import numpy as np\n",
    "\n",
    "array = np.array([1.0, 1.2, 2.2, 2.0, 3.0, 2.0])\n",
    "\n",
    "# Integer elements only\n",
    "integer_elements = array[array == array.astype(int)]\n",
    "\n",
    "# Float elements only\n",
    "float_elements = array[array != array.astype(int)]\n",
    "\n",
    "print(\"Original array:\", array)\n",
    "print(\"Integer elements only:\", integer_elements)\n",
    "print(\"Float elements only:\", float_elements)\n"
   ]
  },
  {
   "cell_type": "code",
   "execution_count": null,
   "id": "25f2cd81-e821-442f-b783-fe50845ed2a0",
   "metadata": {},
   "outputs": [],
   "source": [
    "# 4 "
   ]
  },
  {
   "cell_type": "code",
   "execution_count": null,
   "id": "e3a207cf-e1e5-4cfe-9916-f4c9b71913bb",
   "metadata": {},
   "outputs": [],
   "source": []
  }
 ],
 "metadata": {
  "kernelspec": {
   "display_name": "Python 3 (ipykernel)",
   "language": "python",
   "name": "python3"
  },
  "language_info": {
   "codemirror_mode": {
    "name": "ipython",
    "version": 3
   },
   "file_extension": ".py",
   "mimetype": "text/x-python",
   "name": "python",
   "nbconvert_exporter": "python",
   "pygments_lexer": "ipython3",
   "version": "3.11.7"
  }
 },
 "nbformat": 4,
 "nbformat_minor": 5
}
